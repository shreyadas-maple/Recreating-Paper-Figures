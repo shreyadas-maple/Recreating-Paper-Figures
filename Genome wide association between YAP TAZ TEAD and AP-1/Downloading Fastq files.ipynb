{
 "cells": [
  {
   "cell_type": "code",
   "execution_count": 3,
   "metadata": {},
   "outputs": [],
   "source": [
    "# Create a file in your directory called data\n",
    "#! mkdir data \n",
    "# Enter the data file\n",
    "#! cd data \n",
    "# Create another file called fastq, where all the fastq files will be saved\n",
    "#! mkdir fastq\n",
    "# Enter that file\n",
    "#! cd fastq"
   ]
  },
  {
   "cell_type": "code",
   "execution_count": 4,
   "metadata": {},
   "outputs": [],
   "source": [
    "# install wget if you dont have it\n",
    "# conda install wget"
   ]
  },
  {
   "cell_type": "markdown",
   "metadata": {},
   "source": [
    "Get all the fastq files: SRR1810907/900/918/912 for this project"
   ]
  },
  {
   "cell_type": "code",
   "execution_count": null,
   "metadata": {},
   "outputs": [],
   "source": [
    "#! wget -nc ftp://ftp.sra.ebi.ac.uk/vol1/fastq/SRR181/007/SRR1810907/SRR1810907.fastq.gz\n",
    "#! wget -nc ftp://ftp.sra.ebi.ac.uk/vol1/fastq/SRR181/008/SRR1810918/SRR1810918.fastq.gz\n",
    "#! wget -nc ftp://ftp.sra.ebi.ac.uk/vol1/fastq/SRR181/000/SRR1810900/SRR1810900.fastq.gz\n",
    "#! wget -nc ftp://ftp.sra.ebi.ac.uk/vol1/fastq/SRR181/002/SRR1810912/SRR1810912.fastq.gz"
   ]
  },
  {
   "cell_type": "markdown",
   "metadata": {},
   "source": [
    "We are going to rename the files for this project"
   ]
  },
  {
   "cell_type": "code",
   "execution_count": null,
   "metadata": {},
   "outputs": [],
   "source": [
    "# !mv SRR1810907.fastq.gz TAZ.fastq.gz\n",
    "# !mv SRR1810900.fastq.gz YAP.fastq.gz\n",
    "# !mv SRR1810918.fastq.gz TEAD4.fastq.gz\n",
    "# !mv SRR1810912.fastq.gz IgG.fastq.gz"
   ]
  },
  {
   "cell_type": "markdown",
   "metadata": {},
   "source": [
    "You can check that the files are in the right place:"
   ]
  },
  {
   "cell_type": "code",
   "execution_count": 5,
   "metadata": {},
   "outputs": [
    {
     "name": "stdout",
     "output_type": "stream",
     "text": [
      "IgG.fastq.gz   TAZ.fastq.gz   TEAD4.fastq.gz YAP.fastq.gz\n"
     ]
    }
   ],
   "source": [
    "#! ls data/fastq/"
   ]
  },
  {
   "cell_type": "markdown",
   "metadata": {},
   "source": [
    "Each of the fastq files are text files with 4 lines for a single record. \n",
    "\n",
    "1. After the '@' is a sequence identifier and is optional\n",
    "2. Is the raw sequence of letters\n",
    "3. Begins with a '+' symbol and is somtimes followed by the same sequence identifier\n",
    "4. Is a sequence that encodes the quality values for the sequence in line 2\n"
   ]
  },
  {
   "cell_type": "code",
   "execution_count": null,
   "metadata": {},
   "outputs": [],
   "source": [
    "# !zless YAP.fastq.gz"
   ]
  },
  {
   "cell_type": "markdown",
   "metadata": {},
   "source": [
    "If we wanted to download all of the fastq files for this experiment how would we do it programmatically?\n",
    "\n",
    "1. Go to the ENA browser with all the fastq files and click \"Download All\". This will give a shell script with all the wget commands for each fastq file.\n",
    "2. Then do the following commands in the terminal:"
   ]
  },
  {
   "cell_type": "code",
   "execution_count": null,
   "metadata": {},
   "outputs": [],
   "source": [
    "# Give execute permission to the specific script\n",
    "# !chmod +x path_of_script.sh\n",
    "# Run the script\n",
    "# path_of_script.sh"
   ]
  },
  {
   "cell_type": "markdown",
   "metadata": {},
   "source": [
    "NOTE: we will not be doing all of the scripts in this notebook since it is a lot of information and space that will be taken up.\n",
    "\n",
    "### Look At the Quality of the Reads\n",
    "We want to generate **Per Base Sequence Quality** graph for each fastq file. Here we will get the .html files to reproduce the graphs."
   ]
  },
  {
   "cell_type": "code",
   "execution_count": null,
   "metadata": {},
   "outputs": [],
   "source": [
    "# We are going to use the reproduce_figure tool\n",
    "# First download the tool\n",
    "# !conda create -n reproduce_figure fastqc -c bioconda\n",
    "\n",
    "# Then activate the tool\n",
    "# !conda activate reproduce_figure"
   ]
  },
  {
   "cell_type": "code",
   "execution_count": null,
   "metadata": {},
   "outputs": [],
   "source": [
    "# Then make sure that you are within the data/fastq directory\n",
    "# !pwd\n",
    "\n",
    "# If not then set the current directory to data/fastq\n",
    "# !cd data/fastq"
   ]
  },
  {
   "cell_type": "code",
   "execution_count": null,
   "metadata": {},
   "outputs": [],
   "source": [
    "# Execute the following code in the terminal\n",
    "\"\"\"\n",
    "for fq in *fastq.gz\n",
    "do\n",
    "  fastqc $fq\n",
    "done\n",
    "\"\"\""
   ]
  },
  {
   "cell_type": "markdown",
   "metadata": {},
   "source": [
    "Now we have the .html file which you can open in Chrome to view the entire report."
   ]
  }
 ],
 "metadata": {
  "kernelspec": {
   "display_name": "Python 3",
   "language": "python",
   "name": "python3"
  },
  "language_info": {
   "codemirror_mode": {
    "name": "ipython",
    "version": 3
   },
   "file_extension": ".py",
   "mimetype": "text/x-python",
   "name": "python",
   "nbconvert_exporter": "python",
   "pygments_lexer": "ipython3",
   "version": "3.12.1"
  }
 },
 "nbformat": 4,
 "nbformat_minor": 2
}
